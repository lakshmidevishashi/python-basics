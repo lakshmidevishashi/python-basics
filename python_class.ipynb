{
 "cells": [
  {
   "cell_type": "code",
   "execution_count": 1,
   "metadata": {},
   "outputs": [
    {
     "data": {
      "text/plain": [
       "range(0, 10)"
      ]
     },
     "execution_count": 1,
     "metadata": {},
     "output_type": "execute_result"
    }
   ],
   "source": [
    "range(10)# range is inbulit function it act like genators---it givesto generate the data set"
   ]
  },
  {
   "cell_type": "code",
   "execution_count": 2,
   "metadata": {},
   "outputs": [
    {
     "data": {
      "text/plain": [
       "[0, 1, 2, 3, 4, 5, 6, 7, 8, 9]"
      ]
     },
     "execution_count": 2,
     "metadata": {},
     "output_type": "execute_result"
    }
   ],
   "source": [
    "list(range(10))# list is a iterators so it will give the whole data starting and still the end point and excluding end point"
   ]
  },
  {
   "cell_type": "code",
   "execution_count": 3,
   "metadata": {},
   "outputs": [
    {
     "data": {
      "text/plain": [
       "[]"
      ]
     },
     "execution_count": 3,
     "metadata": {},
     "output_type": "execute_result"
    }
   ],
   "source": [
    "list(range(10,3))#it will wont give the result it is in negative direction so we can give step size (-1)"
   ]
  },
  {
   "cell_type": "code",
   "execution_count": 5,
   "metadata": {},
   "outputs": [
    {
     "data": {
      "text/plain": [
       "[10, 9, 8, 7, 6, 5, 4]"
      ]
     },
     "execution_count": 5,
     "metadata": {},
     "output_type": "execute_result"
    }
   ],
   "source": [
    "list(range(10,3,-1))"
   ]
  },
  {
   "cell_type": "code",
   "execution_count": 6,
   "metadata": {},
   "outputs": [
    {
     "ename": "TypeError",
     "evalue": "'float' object cannot be interpreted as an integer",
     "output_type": "error",
     "traceback": [
      "\u001b[1;31m---------------------------------------------------------------------------\u001b[0m",
      "\u001b[1;31mTypeError\u001b[0m                                 Traceback (most recent call last)",
      "\u001b[1;32m<ipython-input-6-a9346ca76469>\u001b[0m in \u001b[0;36m<module>\u001b[1;34m\u001b[0m\n\u001b[1;32m----> 1\u001b[1;33m \u001b[0mlist\u001b[0m\u001b[1;33m(\u001b[0m\u001b[0mrange\u001b[0m\u001b[1;33m(\u001b[0m\u001b[1;36m10\u001b[0m\u001b[1;33m,\u001b[0m\u001b[1;36m3.5\u001b[0m\u001b[1;33m,\u001b[0m\u001b[1;33m-\u001b[0m\u001b[1;36m1\u001b[0m\u001b[1;33m)\u001b[0m\u001b[1;33m)\u001b[0m\u001b[1;33m\u001b[0m\u001b[1;33m\u001b[0m\u001b[0m\n\u001b[0m",
      "\u001b[1;31mTypeError\u001b[0m: 'float' object cannot be interpreted as an integer"
     ]
    }
   ],
   "source": [
    "list(range(10,3.5,-1))#it will not take floting point value expect integer values ----arange can be used floating point"
   ]
  },
  {
   "cell_type": "code",
   "execution_count": 10,
   "metadata": {},
   "outputs": [
    {
     "name": "stdout",
     "output_type": "stream",
     "text": [
      "[5, 6, 7, 8, 9, 10, 25, 47]\n"
     ]
    }
   ],
   "source": [
    "#looping one by one extract the data set--list manipulation\n",
    "l=[3,4,5,6,7,8,23,45]\n",
    "# requirement manipulat all the date set add 2 are3  inside the each every element and create new list\n",
    "m=[]\n",
    "for i in l:\n",
    "    m.append(i+2)# append the data set in the end of the data\n",
    "print(m)\n"
   ]
  },
  {
   "cell_type": "code",
   "execution_count": 14,
   "metadata": {},
   "outputs": [
    {
     "name": "stdout",
     "output_type": "stream",
     "text": [
      "[3, 4, 5, 6, 7, 8, 9]\n"
     ]
    }
   ],
   "source": [
    "#another method to extract the data\n",
    "l=[1,2,3,4,5,6,7]\n",
    "m=[]\n",
    "for i in range(len(l)):#len() means tell length of the list\n",
    "    m.append(l[i]+2)\n",
    "print(m)\n"
   ]
  },
  {
   "cell_type": "code",
   "execution_count": 17,
   "metadata": {},
   "outputs": [
    {
     "name": "stdout",
     "output_type": "stream",
     "text": [
      "[27, 32]\n"
     ]
    }
   ],
   "source": [
    "#i want data which is >=10\n",
    "l=[1,2,3,4,5,6,25,30]\n",
    "m=[]\n",
    "for i in l:\n",
    "    if i>=10:\n",
    "        m.append(i+2)\n",
    "print(m\n",
    "     )"
   ]
  },
  {
   "cell_type": "code",
   "execution_count": 24,
   "metadata": {},
   "outputs": [
    {
     "name": "stdout",
     "output_type": "stream",
     "text": [
      "non of the condition is true\n"
     ]
    }
   ],
   "source": [
    "#if and elif statement and else\n",
    "s=10\n",
    "if s > 10:\n",
    "    print(\"yes this is greater than 10\")\n",
    "    if type(s)==int :\n",
    "        print(\"yes my data is an integer\")\n",
    "elif s==20:\n",
    "    print(\"yes this is lesser than 20\")\n",
    "else:\n",
    "    print(\"non of the condition is true\")"
   ]
  },
  {
   "cell_type": "code",
   "execution_count": 22,
   "metadata": {},
   "outputs": [
    {
     "name": "stdout",
     "output_type": "stream",
     "text": [
      "['lakshmi', 'sudha']\n"
     ]
    }
   ],
   "source": [
    "# if my data set is string add to the new list if its integer no need\n",
    "l=[1,2,3,4,5,6,7,\"lakshmi\",\"sudha\"]\n",
    "m=[]\n",
    "for i in l: #for loop is used to extract the data one by one\n",
    "    if type(i)==str:\n",
    "        m.append(i)\n",
    "print(m)\n",
    "        "
   ]
  },
  {
   "cell_type": "code",
   "execution_count": 23,
   "metadata": {},
   "outputs": [
    {
     "data": {
      "text/plain": [
       "int"
      ]
     },
     "execution_count": 23,
     "metadata": {},
     "output_type": "execute_result"
    }
   ],
   "source": [
    "c=10\n",
    "type(c)"
   ]
  },
  {
   "cell_type": "code",
   "execution_count": 25,
   "metadata": {},
   "outputs": [
    {
     "name": "stdout",
     "output_type": "stream",
     "text": [
      "5\n",
      "6\n",
      "7\n",
      "8\n",
      "9\n",
      "10\n",
      "nothing is left over in the list\n"
     ]
    }
   ],
   "source": [
    "# for else statement is used in python its not like if else statement if the data come to end it will show\n",
    "l=[5,6,7,8,9,10]\n",
    "for i in l:\n",
    "    print(i)\n",
    "else:\n",
    "    print(\"nothing is left over in the list\")#database connection it will be used"
   ]
  },
  {
   "cell_type": "code",
   "execution_count": 1,
   "metadata": {},
   "outputs": [
    {
     "name": "stdout",
     "output_type": "stream",
     "text": [
      "1\n",
      "3\n",
      "6\n",
      "10\n",
      "15\n",
      "21\n",
      "28\n",
      "36\n",
      "45\n",
      "55\n",
      "55\n"
     ]
    }
   ],
   "source": [
    "#if in some condition the not able to complete entire data it will not come to else statement doing the break statement\n",
    "#using while operation \n",
    "d=10\n",
    "s=0\n",
    "i=1#requriment perform addition operation of all the integer\n",
    "while i<=d:#dont give True or d==o like conditiond its always true \n",
    "    s=s+i\n",
    "    i=i+1\n",
    "    print(s)\n",
    "print(s)   "
   ]
  },
  {
   "cell_type": "code",
   "execution_count": 28,
   "metadata": {},
   "outputs": [
    {
     "name": "stdout",
     "output_type": "stream",
     "text": [
      "l\n",
      "a\n",
      "k\n",
      "s\n",
      "h\n",
      "m\n",
      "i\n"
     ]
    }
   ],
   "source": [
    "#iterable object\n",
    "for x in \"lakshmi\":\n",
    "    print(x)"
   ]
  },
  {
   "cell_type": "code",
   "execution_count": 5,
   "metadata": {},
   "outputs": [
    {
     "name": "stdout",
     "output_type": "stream",
     "text": [
      "l\n",
      "a\n",
      "k\n",
      "s\n",
      "h\n",
      "m\n",
      "i\n",
      "i am able to complete the iteratio \n",
      "out of the break\n"
     ]
    }
   ],
   "source": [
    "# how to interpet the program\n",
    "# break and continue\n",
    "#if the system encounter the m in the this condition dont do anything if not contunie the statement\n",
    "for x in \"lakshmi\":\n",
    "    if x==\"m\":\n",
    "        break#out of the condition\n",
    "    print(x)\n",
    "else:#its not if else block its for  else #\n",
    "    print(\"i am able to complete the iteratio \")\n",
    "print(\"out of the break\")"
   ]
  },
  {
   "cell_type": "code",
   "execution_count": null,
   "metadata": {},
   "outputs": [],
   "source": [
    "#continue statement\n",
    "for i in \"lakshmi\":\n",
    "    if i ==\"m\":\n",
    "        continue #it immedital control to the loop it as encounter the m if whaterever u written after continue it will not contiue\n",
    "    print(i)\n"
   ]
  },
  {
   "cell_type": "code",
   "execution_count": null,
   "metadata": {},
   "outputs": [],
   "source": []
  }
 ],
 "metadata": {
  "kernelspec": {
   "display_name": "Python 3",
   "language": "python",
   "name": "python3"
  },
  "language_info": {
   "codemirror_mode": {
    "name": "ipython",
    "version": 3
   },
   "file_extension": ".py",
   "mimetype": "text/x-python",
   "name": "python",
   "nbconvert_exporter": "python",
   "pygments_lexer": "ipython3",
   "version": "3.7.6"
  }
 },
 "nbformat": 4,
 "nbformat_minor": 4
}
